{
 "cells": [
  {
   "cell_type": "code",
   "execution_count": 1,
   "id": "united-climate",
   "metadata": {},
   "outputs": [],
   "source": [
    "import numpy as np\n",
    "from math import *\n",
    "import matplotlib.pyplot as plt\n",
    "from mpl_toolkits import mplot3d\n",
    "from tabulate import tabulate\n",
    "# importing our quantum games functions\n",
    "from QGT import *\n",
    "\n",
    "%matplotlib inline"
   ]
  },
  {
   "cell_type": "markdown",
   "id": "medium-silver",
   "metadata": {},
   "source": [
    "### Three parameter Strategy Operator $\\hat{U2}(\\theta, \\alpha, \\beta)$"
   ]
  },
  {
   "cell_type": "code",
   "execution_count": 2,
   "id": "minor-jungle",
   "metadata": {},
   "outputs": [],
   "source": [
    "def U2(theta, a, b):\n",
    "    u = np.array([[np.exp(1j*a)*cos(theta/2), 1j*np.exp(1j*b)*sin(theta/2)], \n",
    "                  [1j*np.exp(-1j*b)*sin(theta/2), np.exp(-1j*a)*cos(theta/2)]])\n",
    "    return u"
   ]
  },
  {
   "cell_type": "code",
   "execution_count": 3,
   "id": "fantastic-compiler",
   "metadata": {},
   "outputs": [],
   "source": [
    "# Strategy dictionary\n",
    "def SD(p,q):\n",
    "    sd = {\n",
    "            'C': [[0, 0, 0, 1], [0, 0, 0, 0]], \n",
    "            'D': [[pi, 0, -pi/2, 1], [pi, 0, -pi/2, 0]],\n",
    "            'Q': [[0, pi/2, pi/2, 1], [0, pi/2, pi/2, 0]],\n",
    "            'M00': [[pi/2, 0, pi/2, 1], [pi/2, 0, pi/2, 0]],\n",
    "            'M01': [[pi/2, pi/2, 0, 1], [pi/2, pi/2, 0, 0]],\n",
    "            'M10': [[pi/2, 0, 3*pi/2, 1], [pi/2, 0, 3*pi/2, 0]],\n",
    "            'M11': [[pi/2, 3*pi/2, 0, 1], [pi/2, 3*pi/2, 0, 0]],\n",
    "            'RQM00': [[pi/2, 0, pi/2, p], [0, pi/2, pi/2, q]]\n",
    "    }\n",
    "    return sd"
   ]
  },
  {
   "cell_type": "code",
   "execution_count": 4,
   "id": "blond-limitation",
   "metadata": {},
   "outputs": [],
   "source": [
    "S  = ['C', 'D', 'Q', 'M00', 'M01', 'M10', 'M11', 'RQM00']"
   ]
  },
  {
   "cell_type": "markdown",
   "id": "international-relations",
   "metadata": {},
   "source": [
    "### 'M00', 'M01', 'M10', 'M11' are the magic moves defined in the [FA03] (https://arxiv.org/pdf/quant-ph/0209121.pdf) reffered in https://arxiv.org/pdf/1911.09354.pdf"
   ]
  },
  {
   "cell_type": "code",
   "execution_count": 5,
   "id": "authentic-fiber",
   "metadata": {},
   "outputs": [
    {
     "ename": "NameError",
     "evalue": "name 'sd' is not defined",
     "output_type": "error",
     "traceback": [
      "\u001b[0;31m---------------------------------------------------------------------------\u001b[0m",
      "\u001b[0;31mNameError\u001b[0m                                 Traceback (most recent call last)",
      "\u001b[0;32m<ipython-input-5-d3f1a50b0eec>\u001b[0m in \u001b[0;36m<module>\u001b[0;34m\u001b[0m\n\u001b[1;32m      1\u001b[0m \u001b[0;32mfor\u001b[0m \u001b[0ms\u001b[0m \u001b[0;32min\u001b[0m \u001b[0mS\u001b[0m\u001b[0;34m:\u001b[0m\u001b[0;34m\u001b[0m\u001b[0;34m\u001b[0m\u001b[0m\n\u001b[0;32m----> 2\u001b[0;31m     \u001b[0mprint\u001b[0m\u001b[0;34m(\u001b[0m\u001b[0ms\u001b[0m\u001b[0;34m,\u001b[0m \u001b[0;34m'=\\n'\u001b[0m\u001b[0;34m,\u001b[0m \u001b[0mnp\u001b[0m\u001b[0;34m.\u001b[0m\u001b[0mround\u001b[0m\u001b[0;34m(\u001b[0m\u001b[0mU2\u001b[0m\u001b[0;34m(\u001b[0m\u001b[0msd\u001b[0m\u001b[0;34m[\u001b[0m\u001b[0ms\u001b[0m\u001b[0;34m]\u001b[0m\u001b[0;34m[\u001b[0m\u001b[0;36m0\u001b[0m\u001b[0;34m]\u001b[0m\u001b[0;34m[\u001b[0m\u001b[0;36m0\u001b[0m\u001b[0;34m]\u001b[0m\u001b[0;34m,\u001b[0m \u001b[0msd\u001b[0m\u001b[0;34m[\u001b[0m\u001b[0ms\u001b[0m\u001b[0;34m]\u001b[0m\u001b[0;34m[\u001b[0m\u001b[0;36m0\u001b[0m\u001b[0;34m]\u001b[0m\u001b[0;34m[\u001b[0m\u001b[0;36m1\u001b[0m\u001b[0;34m]\u001b[0m\u001b[0;34m,\u001b[0m \u001b[0msd\u001b[0m\u001b[0;34m[\u001b[0m\u001b[0ms\u001b[0m\u001b[0;34m]\u001b[0m\u001b[0;34m[\u001b[0m\u001b[0;36m0\u001b[0m\u001b[0;34m]\u001b[0m\u001b[0;34m[\u001b[0m\u001b[0;36m2\u001b[0m\u001b[0;34m]\u001b[0m\u001b[0;34m)\u001b[0m\u001b[0;34m,\u001b[0m \u001b[0;36m5\u001b[0m\u001b[0;34m)\u001b[0m\u001b[0;34m,\u001b[0m \u001b[0;34m'\\n'\u001b[0m\u001b[0;34m)\u001b[0m\u001b[0;34m\u001b[0m\u001b[0;34m\u001b[0m\u001b[0m\n\u001b[0m",
      "\u001b[0;31mNameError\u001b[0m: name 'sd' is not defined"
     ]
    }
   ],
   "source": [
    "for s in S:\n",
    "    print(s, '=\\n', np.round(U2(sd[s][0][0], sd[s][0][1], sd[s][0][2]), 5), '\\n')"
   ]
  },
  {
   "cell_type": "markdown",
   "id": "ancient-fiber",
   "metadata": {},
   "source": [
    "## Notice\n",
    "* The M10 move is same as the down-to-earthmove E defined in https://arxiv.org/pdf/1911.09354.pdf"
   ]
  },
  {
   "cell_type": "code",
   "execution_count": 6,
   "id": "crude-warehouse",
   "metadata": {},
   "outputs": [],
   "source": [
    "PD = np.array([[3, 0, 5, 1],[3, 5, 0, 1]])"
   ]
  },
  {
   "cell_type": "markdown",
   "id": "spare-hormone",
   "metadata": {},
   "source": [
    "### Without Etanlgement"
   ]
  },
  {
   "cell_type": "code",
   "execution_count": 7,
   "id": "viral-locator",
   "metadata": {},
   "outputs": [
    {
     "name": "stdout",
     "output_type": "stream",
     "text": [
      "+----+-------+-------------+-------------+-------------+--------------+--------------+--------------+--------------+--------------+\n",
      "|    |       |             |             |             |              |              |              |     Bob      |              |\n",
      "+----+-------+-------------+-------------+-------------+--------------+--------------+--------------+--------------+--------------+\n",
      "|    |       |      C      |      D      |      Q      |     M00      |     M01      |     M10      |     M11      |    RQM00     |\n",
      "| Al |   C   | (3.0, 3.0)  | (0.0, 5.0)  | (3.0, 3.0)  |  (1.5, 4.0)  |  (1.5, 4.0)  |  (1.5, 4.0)  |  (1.5, 4.0)  | (2.25, 3.5)  |\n",
      "|    |   D   | (5.0, 0.0)  | (1.0, 1.0)  | (5.0, 0.0)  |  (3.0, 0.5)  |  (3.0, 0.5)  |  (3.0, 0.5)  |  (3.0, 0.5)  | (4.0, 0.25)  |\n",
      "|    |   Q   | (3.0, 3.0)  | (0.0, 5.0)  | (3.0, 3.0)  |  (1.5, 4.0)  |  (1.5, 4.0)  |  (1.5, 4.0)  |  (1.5, 4.0)  | (2.25, 3.5)  |\n",
      "|    |  M00  | (4.0, 1.5)  | (0.5, 3.0)  | (4.0, 1.5)  | (2.25, 2.25) | (2.25, 2.25) | (2.25, 2.25) | (2.25, 2.25) | (3.12, 1.88) |\n",
      "|    |  M01  | (4.0, 1.5)  | (0.5, 3.0)  | (4.0, 1.5)  | (2.25, 2.25) | (2.25, 2.25) | (2.25, 2.25) | (2.25, 2.25) | (3.12, 1.88) |\n",
      "|    |  M10  | (4.0, 1.5)  | (0.5, 3.0)  | (4.0, 1.5)  | (2.25, 2.25) | (2.25, 2.25) | (2.25, 2.25) | (2.25, 2.25) | (3.12, 1.88) |\n",
      "|    |  M11  | (4.0, 1.5)  | (0.5, 3.0)  | (4.0, 1.5)  | (2.25, 2.25) | (2.25, 2.25) | (2.25, 2.25) | (2.25, 2.25) | (3.12, 1.88) |\n",
      "|    | RQM00 | (3.5, 2.25) | (0.25, 4.0) | (3.5, 2.25) | (1.88, 3.12) | (1.88, 3.12) | (1.88, 3.12) | (1.88, 3.12) | (2.69, 2.69) |\n",
      "+----+-------+-------------+-------------+-------------+--------------+--------------+--------------+--------------+--------------+\n"
     ]
    }
   ],
   "source": [
    "payoff_tableg(U2, PD, 0, S, SD(0.5, 0.5))"
   ]
  },
  {
   "cell_type": "markdown",
   "id": "excited-organ",
   "metadata": {},
   "source": [
    "### With Maximal Etanlgement"
   ]
  },
  {
   "cell_type": "code",
   "execution_count": 8,
   "id": "practical-reggae",
   "metadata": {},
   "outputs": [
    {
     "name": "stdout",
     "output_type": "stream",
     "text": [
      "+----+-------+-------------+-------------+-------------+--------------+--------------+--------------+--------------+--------------+\n",
      "|    |       |             |             |             |              |              |              |     Bob      |              |\n",
      "+----+-------+-------------+-------------+-------------+--------------+--------------+--------------+--------------+--------------+\n",
      "|    |       |      C      |      D      |      Q      |     M00      |     M01      |     M10      |     M11      |    RQM00     |\n",
      "| Al |   C   | (3.0, 3.0)  | (0.0, 5.0)  | (1.0, 1.0)  |  (1.5, 4.0)  |  (3.0, 0.5)  |  (1.5, 4.0)  |  (3.0, 0.5)  | (1.25, 2.5)  |\n",
      "|    |   D   | (5.0, 0.0)  | (1.0, 1.0)  | (0.0, 5.0)  |  (3.0, 0.5)  |  (1.5, 4.0)  |  (3.0, 0.5)  |  (1.5, 4.0)  | (1.5, 2.75)  |\n",
      "|    |   Q   | (1.0, 1.0)  | (5.0, 0.0)  | (3.0, 3.0)  |  (3.0, 0.5)  |  (1.5, 4.0)  |  (3.0, 0.5)  |  (1.5, 4.0)  | (3.0, 1.75)  |\n",
      "|    |  M00  | (4.0, 1.5)  | (0.5, 3.0)  | (0.5, 3.0)  | (2.25, 2.25) | (2.25, 2.25) | (2.25, 2.25) | (2.25, 2.25) | (1.38, 2.62) |\n",
      "|    |  M01  | (0.5, 3.0)  | (4.0, 1.5)  | (4.0, 1.5)  | (2.25, 2.25) | (2.25, 2.25) | (2.25, 2.25) | (2.25, 2.25) | (3.12, 1.87) |\n",
      "|    |  M10  | (4.0, 1.5)  | (0.5, 3.0)  | (0.5, 3.0)  | (2.25, 2.25) | (2.25, 2.25) | (2.25, 2.25) | (2.25, 2.25) | (1.38, 2.62) |\n",
      "|    |  M11  | (0.5, 3.0)  | (4.0, 1.5)  | (4.0, 1.5)  | (2.25, 2.25) | (2.25, 2.25) | (2.25, 2.25) | (2.25, 2.25) | (3.12, 1.87) |\n",
      "|    | RQM00 | (2.5, 1.25) | (2.75, 1.5) | (1.75, 3.0) | (2.62, 1.38) | (1.87, 3.12) | (2.62, 1.38) | (1.87, 3.12) | (2.19, 2.19) |\n",
      "+----+-------+-------------+-------------+-------------+--------------+--------------+--------------+--------------+--------------+\n"
     ]
    }
   ],
   "source": [
    "payoff_tableg(U2, PD, pi/2, S, SD(0.5, 0.5))"
   ]
  },
  {
   "cell_type": "markdown",
   "id": "agreed-heart",
   "metadata": {},
   "source": [
    "## Hawk-Dove"
   ]
  },
  {
   "cell_type": "code",
   "execution_count": 9,
   "id": "collected-crowd",
   "metadata": {},
   "outputs": [
    {
     "data": {
      "text/plain": [
       "array([[-25.,  50.,   0.,  15.],\n",
       "       [-25.,   0.,  50.,  15.]])"
      ]
     },
     "execution_count": 9,
     "metadata": {},
     "output_type": "execute_result"
    }
   ],
   "source": [
    "HD = HD_payoff_matrix(50, 100, 10)\n",
    "HD"
   ]
  },
  {
   "cell_type": "markdown",
   "id": "perceived-guitar",
   "metadata": {},
   "source": [
    "### Without Etanlgement"
   ]
  },
  {
   "cell_type": "code",
   "execution_count": 10,
   "id": "optimum-chile",
   "metadata": {},
   "outputs": [
    {
     "name": "stdout",
     "output_type": "stream",
     "text": [
      "+----+-------+-----------------+---------------+-----------------+----------------+----------------+----------------+----------------+-----------------+\n",
      "|    |       |                 |               |                 |                |                |                |      Bob       |                 |\n",
      "+----+-------+-----------------+---------------+-----------------+----------------+----------------+----------------+----------------+-----------------+\n",
      "|    |       |        C        |       D       |        Q        |      M00       |      M01       |      M10       |      M11       |      RQM00      |\n",
      "| Al |   C   | (-25.0, -25.0)  | (50.0, -0.0)  | (-25.0, -25.0)  | (12.5, -12.5)  | (12.5, -12.5)  | (12.5, -12.5)  | (12.5, -12.5)  | (-6.25, -18.75) |\n",
      "|    |   D   |  (-0.0, 50.0)   | (15.0, 15.0)  |  (-0.0, 50.0)   |  (7.5, 32.5)   |  (7.5, 32.5)   |  (7.5, 32.5)   |  (7.5, 32.5)   |  (3.75, 41.25)  |\n",
      "|    |   Q   | (-25.0, -25.0)  | (50.0, -0.0)  | (-25.0, -25.0)  | (12.5, -12.5)  | (12.5, -12.5)  | (12.5, -12.5)  | (12.5, -12.5)  | (-6.25, -18.75) |\n",
      "|    |  M00  |  (-12.5, 12.5)  |  (32.5, 7.5)  |  (-12.5, 12.5)  |  (10.0, 10.0)  |  (10.0, 10.0)  |  (10.0, 10.0)  |  (10.0, 10.0)  | (-1.25, 11.25)  |\n",
      "|    |  M01  |  (-12.5, 12.5)  |  (32.5, 7.5)  |  (-12.5, 12.5)  |  (10.0, 10.0)  |  (10.0, 10.0)  |  (10.0, 10.0)  |  (10.0, 10.0)  | (-1.25, 11.25)  |\n",
      "|    |  M10  |  (-12.5, 12.5)  |  (32.5, 7.5)  |  (-12.5, 12.5)  |  (10.0, 10.0)  |  (10.0, 10.0)  |  (10.0, 10.0)  |  (10.0, 10.0)  | (-1.25, 11.25)  |\n",
      "|    |  M11  |  (-12.5, 12.5)  |  (32.5, 7.5)  |  (-12.5, 12.5)  |  (10.0, 10.0)  |  (10.0, 10.0)  |  (10.0, 10.0)  |  (10.0, 10.0)  | (-1.25, 11.25)  |\n",
      "|    | RQM00 | (-18.75, -6.25) | (41.25, 3.75) | (-18.75, -6.25) | (11.25, -1.25) | (11.25, -1.25) | (11.25, -1.25) | (11.25, -1.25) | (-3.75, -3.75)  |\n",
      "+----+-------+-----------------+---------------+-----------------+----------------+----------------+----------------+----------------+-----------------+\n"
     ]
    }
   ],
   "source": [
    "payoff_tableg(U2, HD, 0, S, SD(0.5, 0.5))"
   ]
  },
  {
   "cell_type": "code",
   "execution_count": null,
   "id": "possible-criterion",
   "metadata": {},
   "outputs": [],
   "source": []
  }
 ],
 "metadata": {
  "kernelspec": {
   "display_name": "Python 3",
   "language": "python",
   "name": "python3"
  },
  "language_info": {
   "codemirror_mode": {
    "name": "ipython",
    "version": 3
   },
   "file_extension": ".py",
   "mimetype": "text/x-python",
   "name": "python",
   "nbconvert_exporter": "python",
   "pygments_lexer": "ipython3",
   "version": "3.9.2"
  }
 },
 "nbformat": 4,
 "nbformat_minor": 5
}
