{
 "cells": [
  {
   "cell_type": "code",
   "execution_count": 1,
   "id": "excellent-residence",
   "metadata": {},
   "outputs": [],
   "source": [
    "import numpy as np\n",
    "from math import *\n",
    "import matplotlib.pyplot as plt\n",
    "from mpl_toolkits import mplot3d\n",
    "from tabulate import tabulate\n",
    "# importing our quantum games functions\n",
    "from QGT import *\n",
    "\n",
    "%matplotlib inline"
   ]
  },
  {
   "cell_type": "markdown",
   "id": "purple-drain",
   "metadata": {},
   "source": [
    "### Three parameter Strategy Operator $\\hat{U2}(\\theta, \\alpha, \\beta)$"
   ]
  },
  {
   "cell_type": "code",
   "execution_count": 2,
   "id": "dated-failing",
   "metadata": {},
   "outputs": [],
   "source": [
    "def U2(theta, a, b):\n",
    "    u = np.array([[np.exp(1j*a)*cos(theta/2), 1j*np.exp(1j*b)*sin(theta/2)], \n",
    "                  [1j*np.exp(-1j*b)*sin(theta/2), np.exp(-1j*a)*cos(theta/2)]])\n",
    "    return u"
   ]
  },
  {
   "cell_type": "code",
   "execution_count": 25,
   "id": "south-mailman",
   "metadata": {},
   "outputs": [],
   "source": [
    "# Strategy dictionary\n",
    "sd = {\n",
    "        'C': [[0, 0, 0, 1], [0, 0, 0, 0]], \n",
    "        'D': [[pi, 0, -pi/2, 1], [pi, 0, -pi/2, 0]],\n",
    "        'Q': [[0, pi/2, pi/2, 1], [0, pi/2, pi/2, 0]],\n",
    "        'M00': [[pi/2, 0, pi/2, 1], [pi/2, 0, pi/2, 0]],\n",
    "        'M01': [[pi/2, pi/2, 0, 1], [pi/2, pi/2, 0, 0]],\n",
    "        'M10': [[pi/2, 0, 3*pi/2, 1], [pi/2, 0, 3*pi/2, 0]],\n",
    "        'M11': [[pi/2, 3*pi/2, 0, 1], [pi/2, 3*pi/2, 0, 0]]\n",
    "}"
   ]
  },
  {
   "cell_type": "code",
   "execution_count": 4,
   "id": "worth-granny",
   "metadata": {},
   "outputs": [],
   "source": [
    "S  = ['C', 'D', 'Q', 'M00', 'M01', 'M10', 'M11']"
   ]
  },
  {
   "cell_type": "markdown",
   "id": "spanish-metadata",
   "metadata": {},
   "source": [
    "### 'M00', 'M01', 'M10', 'M11' are the magic moves defined in the [FA03] (https://arxiv.org/pdf/quant-ph/0209121.pdf) reffered in https://arxiv.org/pdf/1911.09354.pdf"
   ]
  },
  {
   "cell_type": "code",
   "execution_count": 5,
   "id": "after-cartridge",
   "metadata": {},
   "outputs": [
    {
     "name": "stdout",
     "output_type": "stream",
     "text": [
      "C =\n",
      " [[1.+0.j 0.+0.j]\n",
      " [0.+0.j 1.+0.j]] \n",
      "\n",
      "D =\n",
      " [[ 0.+0.j  1.+0.j]\n",
      " [-1.+0.j  0.+0.j]] \n",
      "\n",
      "Q =\n",
      " [[ 0.+1.j -0.+0.j]\n",
      " [ 0.+0.j  0.-1.j]] \n",
      "\n",
      "M00 =\n",
      " [[ 0.70711+0.j -0.70711+0.j]\n",
      " [ 0.70711+0.j  0.70711+0.j]] \n",
      "\n",
      "M01 =\n",
      " [[0.+0.70711j 0.+0.70711j]\n",
      " [0.+0.70711j 0.-0.70711j]] \n",
      "\n",
      "M10 =\n",
      " [[ 0.70711+0.j  0.70711-0.j]\n",
      " [-0.70711-0.j  0.70711+0.j]] \n",
      "\n",
      "M11 =\n",
      " [[-0.-0.70711j  0.+0.70711j]\n",
      " [ 0.+0.70711j -0.+0.70711j]] \n",
      "\n"
     ]
    }
   ],
   "source": [
    "for s in S:\n",
    "    print(s, '=\\n', np.round(U2(sd[s][0][0], sd[s][0][1], sd[s][0][2]), 5), '\\n')"
   ]
  },
  {
   "cell_type": "markdown",
   "id": "proved-timeline",
   "metadata": {},
   "source": [
    "## Notice\n",
    "* The M10 move is same as the down-to-earthmove E defined in https://arxiv.org/pdf/1911.09354.pdf"
   ]
  },
  {
   "cell_type": "code",
   "execution_count": 6,
   "id": "retained-antarctica",
   "metadata": {},
   "outputs": [],
   "source": [
    "PD = np.array([[3, 0, 5, 1],[3, 5, 0, 1]])"
   ]
  },
  {
   "cell_type": "code",
   "execution_count": 15,
   "id": "varying-conflict",
   "metadata": {},
   "outputs": [
    {
     "name": "stdout",
     "output_type": "stream",
     "text": [
      "+----+-----+------------+------------+------------+--------------+--------------+--------------+--------------+\n",
      "|    |     |            |            |            |              |              |     Bob      |              |\n",
      "+----+-----+------------+------------+------------+--------------+--------------+--------------+--------------+\n",
      "|    |     |     C      |     D      |     Q      |     M00      |     M01      |     M10      |     M11      |\n",
      "| Al |  C  | (3.0, 3.0) | (0.0, 5.0) | (1.0, 1.0) |  (1.5, 4.0)  |  (3.0, 0.5)  |  (1.5, 4.0)  |  (3.0, 0.5)  |\n",
      "|    |  D  | (5.0, 0.0) | (1.0, 1.0) | (0.0, 5.0) |  (3.0, 0.5)  |  (1.5, 4.0)  |  (3.0, 0.5)  |  (1.5, 4.0)  |\n",
      "|    |  Q  | (1.0, 1.0) | (5.0, 0.0) | (3.0, 3.0) |  (3.0, 0.5)  |  (1.5, 4.0)  |  (3.0, 0.5)  |  (1.5, 4.0)  |\n",
      "|    | M00 | (4.0, 1.5) | (0.5, 3.0) | (0.5, 3.0) | (2.25, 2.25) | (2.25, 2.25) | (2.25, 2.25) | (2.25, 2.25) |\n",
      "|    | M01 | (0.5, 3.0) | (4.0, 1.5) | (4.0, 1.5) | (2.25, 2.25) | (2.25, 2.25) | (2.25, 2.25) | (2.25, 2.25) |\n",
      "|    | M10 | (4.0, 1.5) | (0.5, 3.0) | (0.5, 3.0) | (2.25, 2.25) | (2.25, 2.25) | (2.25, 2.25) | (2.25, 2.25) |\n",
      "|    | M11 | (0.5, 3.0) | (4.0, 1.5) | (4.0, 1.5) | (2.25, 2.25) | (2.25, 2.25) | (2.25, 2.25) | (2.25, 2.25) |\n",
      "+----+-----+------------+------------+------------+--------------+--------------+--------------+--------------+\n"
     ]
    }
   ],
   "source": [
    "payoff_tableg(U2, PD, pi/2, S, sd)"
   ]
  }
 ],
 "metadata": {
  "kernelspec": {
   "display_name": "Python 3",
   "language": "python",
   "name": "python3"
  },
  "language_info": {
   "codemirror_mode": {
    "name": "ipython",
    "version": 3
   },
   "file_extension": ".py",
   "mimetype": "text/x-python",
   "name": "python",
   "nbconvert_exporter": "python",
   "pygments_lexer": "ipython3",
   "version": "3.9.2"
  }
 },
 "nbformat": 4,
 "nbformat_minor": 5
}
