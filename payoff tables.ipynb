{
 "cells": [
  {
   "cell_type": "code",
   "execution_count": 1,
   "id": "revised-reason",
   "metadata": {},
   "outputs": [],
   "source": [
    "import numpy as np\n",
    "from math import *\n",
    "from tabulate import tabulate\n",
    "# importing our quantum games functions\n",
    "from QGT import *"
   ]
  },
  {
   "cell_type": "code",
   "execution_count": 24,
   "id": "surface-bleeding",
   "metadata": {},
   "outputs": [],
   "source": [
    "# Strategy dictionary\n",
    "def SD(p,q):\n",
    "    sd = {\n",
    "            'C': [[0, 0, 0, 1], [0, 0, 0, 0]], \n",
    "            'H': [[0, 0, 0, 1], [0, 0, 0, 0]],\n",
    "            'D': [[pi, 0, -pi/2, 1], [pi, 0, -pi/2, 0]],\n",
    "            'RCD': [[0, 0, 0, p], [pi, 0, -pi/2, q]],\n",
    "            'RHD': [[0, 0, 0, p], [pi, 0, -pi/2, q]],\n",
    "            'Q': [[0, pi/2, pi/2, 1], [0, pi/2, pi/2, 0]],\n",
    "            \n",
    "            'Me': [[pi/2, pi/2, pi/2, 1], [pi/2, pi/2, pi/2, 0]],\n",
    "            'RQMe': [[0, pi/2, pi/2, p], [pi/2, pi/2, pi/2, q]],\n",
    "            'M00': [[pi/2, 0, pi/2, 1], [pi/2, 0, pi/2, 0]],\n",
    "            'M01': [[pi/2, pi/2, 0, 1], [pi/2, pi/2, 0, 0]],\n",
    "            'M10': [[pi/2, 0, 3*pi/2, 1], [pi/2, 0, 3*pi/2, 0]],\n",
    "            'M11': [[pi/2, 3*pi/2, 0, 1], [pi/2, 3*pi/2, 0, 0]],\n",
    "            'RQM00': [[pi/2, 0, pi/2, p], [0, pi/2, pi/2, q]]\n",
    "    }\n",
    "    return sd"
   ]
  },
  {
   "cell_type": "markdown",
   "id": "compact-affect",
   "metadata": {},
   "source": [
    "# Prisoners Delima"
   ]
  },
  {
   "cell_type": "code",
   "execution_count": 25,
   "id": "popular-flour",
   "metadata": {},
   "outputs": [],
   "source": [
    "# payoff matrix\n",
    "PD = np.array([[3, 0, 5, 1],[3, 5, 0, 1]])"
   ]
  },
  {
   "cell_type": "markdown",
   "id": "elegant-silicon",
   "metadata": {},
   "source": [
    "## C, D, RCD"
   ]
  },
  {
   "cell_type": "code",
   "execution_count": 26,
   "id": "assured-ratio",
   "metadata": {},
   "outputs": [
    {
     "name": "stdout",
     "output_type": "stream",
     "text": [
      "+----+-----+------------+------------+--------------+\n",
      "|    |     |            |    Bob     |              |\n",
      "+----+-----+------------+------------+--------------+\n",
      "|    |     |     C      |     D      |     RCD      |\n",
      "| Al |  C  | (3.0, 3.0) | (0.0, 5.0) |  (1.5, 4.0)  |\n",
      "|    |  D  | (5.0, 0.0) | (1.0, 1.0) |  (3.0, 0.5)  |\n",
      "|    | RCD | (4.0, 1.5) | (0.5, 3.0) | (2.25, 2.25) |\n",
      "+----+-----+------------+------------+--------------+\n"
     ]
    }
   ],
   "source": [
    "payoff_tableg(U2, PD, pi/2, ['C', 'D', 'RCD'], SD(0.5, 0.5))"
   ]
  },
  {
   "cell_type": "markdown",
   "id": "military-rating",
   "metadata": {},
   "source": [
    "## C, D and Q"
   ]
  },
  {
   "cell_type": "code",
   "execution_count": 27,
   "id": "automatic-chair",
   "metadata": {
    "scrolled": false
   },
   "outputs": [
    {
     "name": "stdout",
     "output_type": "stream",
     "text": [
      "+----+---+------------+------------+------------+\n",
      "|    |   |            |    Bob     |            |\n",
      "+----+---+------------+------------+------------+\n",
      "|    |   |     C      |     D      |     Q      |\n",
      "| Al | C | (3.0, 3.0) | (0.0, 5.0) | (1.0, 1.0) |\n",
      "|    | D | (5.0, 0.0) | (1.0, 1.0) | (0.0, 5.0) |\n",
      "|    | Q | (1.0, 1.0) | (5.0, 0.0) | (3.0, 3.0) |\n",
      "+----+---+------------+------------+------------+\n"
     ]
    }
   ],
   "source": [
    "payoff_tableg(U2, PD, pi/2, ['C', 'D', 'Q'], SD(0.5, 0.5))"
   ]
  },
  {
   "cell_type": "markdown",
   "id": "demanding-bradley",
   "metadata": {},
   "source": [
    "## C, D, and Me"
   ]
  },
  {
   "cell_type": "code",
   "execution_count": 28,
   "id": "differential-pillow",
   "metadata": {},
   "outputs": [
    {
     "name": "stdout",
     "output_type": "stream",
     "text": [
      "+----+----+------------+------------+--------------+\n",
      "|    |    |            |    Bob     |              |\n",
      "+----+----+------------+------------+--------------+\n",
      "|    |    |     C      |     D      |      Me      |\n",
      "| Al | C  | (3.0, 3.0) | (0.0, 5.0) |  (0.5, 3.0)  |\n",
      "|    | D  | (5.0, 0.0) | (1.0, 1.0) |  (0.5, 3.0)  |\n",
      "|    | Me | (3.0, 0.5) | (3.0, 0.5) | (2.25, 2.25) |\n",
      "+----+----+------------+------------+--------------+\n"
     ]
    }
   ],
   "source": [
    "payoff_tableg(U2, PD, pi/2, ['C', 'D', 'Me'], SD(0.5, 0.5))"
   ]
  },
  {
   "cell_type": "markdown",
   "id": "explicit-sodium",
   "metadata": {},
   "source": [
    "## Q, Me,  and RQMe"
   ]
  },
  {
   "cell_type": "code",
   "execution_count": 29,
   "id": "insured-pepper",
   "metadata": {},
   "outputs": [
    {
     "name": "stdout",
     "output_type": "stream",
     "text": [
      "+----+------+-------------+--------------+--------------+\n",
      "|    |      |             |     Bob      |              |\n",
      "+----+------+-------------+--------------+--------------+\n",
      "|    |      |      Q      |      Me      |     RQMe     |\n",
      "| Al |  Q   | (3.0, 3.0)  |  (4.0, 1.5)  | (3.5, 2.25)  |\n",
      "|    |  Me  | (1.5, 4.0)  | (2.25, 2.25) | (1.88, 3.12) |\n",
      "|    | RQMe | (2.25, 3.5) | (3.12, 1.88) | (2.69, 2.69) |\n",
      "+----+------+-------------+--------------+--------------+\n"
     ]
    }
   ],
   "source": [
    "payoff_tableg(U2, PD, pi/2, ['Q', 'Me', 'RQMe'], SD(0.5, 0.5))"
   ]
  },
  {
   "cell_type": "code",
   "execution_count": null,
   "id": "dying-remainder",
   "metadata": {},
   "outputs": [],
   "source": []
  },
  {
   "cell_type": "code",
   "execution_count": 9,
   "id": "fallen-polymer",
   "metadata": {
    "scrolled": true
   },
   "outputs": [
    {
     "name": "stdout",
     "output_type": "stream",
     "text": [
      "+----+------+-------------+-------------+-------------+--------------+--------------+--------------+\n",
      "|    |      |             |             |             |              |     Bob      |              |\n",
      "+----+------+-------------+-------------+-------------+--------------+--------------+--------------+\n",
      "|    |      |      C      |      D      |      Q      |      Me      |     M10      |     RQMe     |\n",
      "| Al |  C   | (3.0, 3.0)  | (0.0, 5.0)  | (1.0, 1.0)  |  (0.5, 3.0)  |  (1.5, 4.0)  | (0.75, 2.0)  |\n",
      "|    |  D   | (5.0, 0.0)  | (1.0, 1.0)  | (0.0, 5.0)  |  (0.5, 3.0)  |  (3.0, 0.5)  | (0.25, 4.0)  |\n",
      "|    |  Q   | (1.0, 1.0)  | (5.0, 0.0)  | (3.0, 3.0)  |  (4.0, 1.5)  |  (3.0, 0.5)  | (3.5, 2.25)  |\n",
      "|    |  Me  | (3.0, 0.5)  | (3.0, 0.5)  | (1.5, 4.0)  | (2.25, 2.25) |  (1.0, 1.0)  | (1.88, 3.12) |\n",
      "|    | M10  | (4.0, 1.5)  | (0.5, 3.0)  | (0.5, 3.0)  |  (1.0, 1.0)  | (2.25, 2.25) | (0.75, 2.0)  |\n",
      "|    | RQMe | (2.0, 0.75) | (4.0, 0.25) | (2.25, 3.5) | (3.12, 1.88) | (2.0, 0.75)  | (2.69, 2.69) |\n",
      "+----+------+-------------+-------------+-------------+--------------+--------------+--------------+\n"
     ]
    }
   ],
   "source": [
    "payoff_tableg(U2, PD, pi/2, ['C', 'D', 'Q', 'Me', 'M10', 'RQMe'], SD(0.5, 0.5))"
   ]
  },
  {
   "cell_type": "code",
   "execution_count": null,
   "id": "ahead-north",
   "metadata": {},
   "outputs": [],
   "source": []
  },
  {
   "cell_type": "markdown",
   "id": "moral-nowhere",
   "metadata": {},
   "source": [
    "# Hawk-Dove"
   ]
  },
  {
   "cell_type": "code",
   "execution_count": 19,
   "id": "accepting-lounge",
   "metadata": {},
   "outputs": [
    {
     "data": {
      "text/plain": [
       "array([[-25.,  50.,   0.,  15.],\n",
       "       [-25.,   0.,  50.,  15.]])"
      ]
     },
     "execution_count": 19,
     "metadata": {},
     "output_type": "execute_result"
    }
   ],
   "source": [
    "# payoff matrix\n",
    "HD = HD_payoff_matrix(50, 100, 10)\n",
    "HD"
   ]
  },
  {
   "cell_type": "markdown",
   "id": "agricultural-dividend",
   "metadata": {},
   "source": [
    "## H, D, RCD"
   ]
  },
  {
   "cell_type": "code",
   "execution_count": 32,
   "id": "promotional-publicity",
   "metadata": {},
   "outputs": [
    {
     "name": "stdout",
     "output_type": "stream",
     "text": [
      "+----+-----+----------------+--------------+---------------+\n",
      "|    |     |                |     Bob      |               |\n",
      "+----+-----+----------------+--------------+---------------+\n",
      "|    |     |       H        |      D       |      RCD      |\n",
      "| Al |  H  | (-25.0, -25.0) | (50.0, -0.0) | (12.5, -12.5) |\n",
      "|    |  D  |  (-0.0, 50.0)  | (15.0, 15.0) |  (7.5, 32.5)  |\n",
      "|    | RCD | (-12.5, 12.5)  | (32.5, 7.5)  | (10.0, 10.0)  |\n",
      "+----+-----+----------------+--------------+---------------+\n"
     ]
    }
   ],
   "source": [
    "payoff_tableg(U2, HD, pi/2, ['H', 'D', 'RCD'], SD(0.5, 0.5))"
   ]
  },
  {
   "cell_type": "markdown",
   "id": "sitting-petroleum",
   "metadata": {},
   "source": [
    "## H, D and Q"
   ]
  },
  {
   "cell_type": "code",
   "execution_count": 33,
   "id": "massive-flash",
   "metadata": {
    "scrolled": false
   },
   "outputs": [
    {
     "name": "stdout",
     "output_type": "stream",
     "text": [
      "+----+---+----------------+--------------+----------------+\n",
      "|    |   |                |     Bob      |                |\n",
      "+----+---+----------------+--------------+----------------+\n",
      "|    |   |       H        |      D       |       Q        |\n",
      "| Al | H | (-25.0, -25.0) | (50.0, -0.0) |  (15.0, 15.0)  |\n",
      "|    | D |  (-0.0, 50.0)  | (15.0, 15.0) |  (50.0, 0.0)   |\n",
      "|    | Q |  (15.0, 15.0)  | (0.0, 50.0)  | (-25.0, -25.0) |\n",
      "+----+---+----------------+--------------+----------------+\n"
     ]
    }
   ],
   "source": [
    "payoff_tableg(U2, HD, pi/2, ['H', 'D', 'Q'], SD(0.5, 0.5))"
   ]
  },
  {
   "cell_type": "markdown",
   "id": "together-chuck",
   "metadata": {},
   "source": [
    "## H, D, and Me"
   ]
  },
  {
   "cell_type": "code",
   "execution_count": 34,
   "id": "fresh-dance",
   "metadata": {},
   "outputs": [
    {
     "name": "stdout",
     "output_type": "stream",
     "text": [
      "+----+----+----------------+--------------+--------------+\n",
      "|    |    |                |     Bob      |              |\n",
      "+----+----+----------------+--------------+--------------+\n",
      "|    |    |       H        |      D       |      Me      |\n",
      "| Al | H  | (-25.0, -25.0) | (50.0, -0.0) | (32.5, 7.5)  |\n",
      "|    | D  |  (-0.0, 50.0)  | (15.0, 15.0) | (32.5, 7.5)  |\n",
      "|    | Me |  (7.5, 32.5)   | (7.5, 32.5)  | (10.0, 10.0) |\n",
      "+----+----+----------------+--------------+--------------+\n"
     ]
    }
   ],
   "source": [
    "payoff_tableg(U2, HD, pi/2, ['H', 'D', 'Me'], SD(0.5, 0.5))"
   ]
  },
  {
   "cell_type": "markdown",
   "id": "regulated-surface",
   "metadata": {},
   "source": [
    "## Q, Me,  and RQMe"
   ]
  },
  {
   "cell_type": "code",
   "execution_count": 35,
   "id": "gorgeous-memphis",
   "metadata": {},
   "outputs": [
    {
     "name": "stdout",
     "output_type": "stream",
     "text": [
      "+----+------+-----------------+----------------+-----------------+\n",
      "|    |      |                 |      Bob       |                 |\n",
      "+----+------+-----------------+----------------+-----------------+\n",
      "|    |      |        Q        |       Me       |      RQMe       |\n",
      "| Al |  Q   | (-25.0, -25.0)  | (-12.5, 12.5)  | (-18.75, -6.25) |\n",
      "|    |  Me  |  (12.5, -12.5)  |  (10.0, 10.0)  | (11.25, -1.25)  |\n",
      "|    | RQMe | (-6.25, -18.75) | (-1.25, 11.25) | (-3.75, -3.75)  |\n",
      "+----+------+-----------------+----------------+-----------------+\n"
     ]
    }
   ],
   "source": [
    "payoff_tableg(U2, HD, pi/2, ['Q', 'Me', 'RQMe'], SD(0.5, 0.5))"
   ]
  },
  {
   "cell_type": "code",
   "execution_count": null,
   "id": "dense-configuration",
   "metadata": {},
   "outputs": [],
   "source": []
  },
  {
   "cell_type": "code",
   "execution_count": 36,
   "id": "blank-benefit",
   "metadata": {
    "scrolled": true
   },
   "outputs": [
    {
     "name": "stdout",
     "output_type": "stream",
     "text": [
      "+----+------+----------------+---------------+-----------------+----------------+----------------+-----------------+\n",
      "|    |      |                |               |                 |                |      Bob       |                 |\n",
      "+----+------+----------------+---------------+-----------------+----------------+----------------+-----------------+\n",
      "|    |      |       C        |       D       |        Q        |       Me       |      M10       |      RQMe       |\n",
      "| Al |  C   | (-25.0, -25.0) | (50.0, -0.0)  |  (15.0, 15.0)   |  (32.5, 7.5)   | (12.5, -12.5)  | (23.75, 11.25)  |\n",
      "|    |  D   |  (-0.0, 50.0)  | (15.0, 15.0)  |   (50.0, 0.0)   |  (32.5, 7.5)   |  (7.5, 32.5)   |  (41.25, 3.75)  |\n",
      "|    |  Q   |  (15.0, 15.0)  |  (0.0, 50.0)  | (-25.0, -25.0)  | (-12.5, 12.5)  |  (7.5, 32.5)   | (-18.75, -6.25) |\n",
      "|    |  Me  |  (7.5, 32.5)   |  (7.5, 32.5)  |  (12.5, -12.5)  |  (10.0, 10.0)  |  (15.0, 15.0)  | (11.25, -1.25)  |\n",
      "|    | M10  | (-12.5, 12.5)  |  (32.5, 7.5)  |   (32.5, 7.5)   |  (15.0, 15.0)  |  (10.0, 10.0)  | (23.75, 11.25)  |\n",
      "|    | RQMe | (11.25, 23.75) | (3.75, 41.25) | (-6.25, -18.75) | (-1.25, 11.25) | (11.25, 23.75) | (-3.75, -3.75)  |\n",
      "+----+------+----------------+---------------+-----------------+----------------+----------------+-----------------+\n"
     ]
    }
   ],
   "source": [
    "payoff_tableg(U2, HD, pi/2, ['C', 'D', 'Q', 'Me', 'M10', 'RQMe'], SD(0.5, 0.5))"
   ]
  },
  {
   "cell_type": "code",
   "execution_count": null,
   "id": "blond-zambia",
   "metadata": {},
   "outputs": [],
   "source": []
  }
 ],
 "metadata": {
  "kernelspec": {
   "display_name": "Python 3",
   "language": "python",
   "name": "python3"
  },
  "language_info": {
   "codemirror_mode": {
    "name": "ipython",
    "version": 3
   },
   "file_extension": ".py",
   "mimetype": "text/x-python",
   "name": "python",
   "nbconvert_exporter": "python",
   "pygments_lexer": "ipython3",
   "version": "3.9.2"
  }
 },
 "nbformat": 4,
 "nbformat_minor": 5
}
